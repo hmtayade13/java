{
  "nbformat": 4,
  "nbformat_minor": 0,
  "metadata": {
    "colab": {
      "name": "Untitled1.ipynb",
      "provenance": [],
      "collapsed_sections": [],
      "authorship_tag": "ABX9TyNjtqY5FclxgYmccG6gtWdt",
      "include_colab_link": true
    },
    "kernelspec": {
      "name": "python3",
      "display_name": "Python 3"
    },
    "accelerator": "GPU"
  },
  "cells": [
    {
      "cell_type": "markdown",
      "metadata": {
        "id": "view-in-github",
        "colab_type": "text"
      },
      "source": [
        "<a href=\"https://colab.research.google.com/github/hmtayade13/java/blob/master/tensorflow.ipynb\" target=\"_parent\"><img src=\"https://colab.research.google.com/assets/colab-badge.svg\" alt=\"Open In Colab\"/></a>"
      ]
    },
    {
      "cell_type": "code",
      "metadata": {
        "id": "othgsDyR8MIO",
        "colab_type": "code",
        "colab": {
          "base_uri": "https://localhost:8080/",
          "height": 70
        },
        "outputId": "eef77ff1-d597-4ab3-98da-6cbd523d8530"
      },
      "source": [
        "!pwd\n",
        "!cd /\n",
        "!ls -l"
      ],
      "execution_count": 1,
      "outputs": [
        {
          "output_type": "stream",
          "text": [
            "/content\n",
            "total 4\n",
            "drwxr-xr-x 1 root root 4096 May 27 16:27 sample_data\n"
          ],
          "name": "stdout"
        }
      ]
    },
    {
      "cell_type": "code",
      "metadata": {
        "id": "VKfWRZf1GjXm",
        "colab_type": "code",
        "colab": {}
      },
      "source": [
        "import tensorflow as tf\n",
        "tf.compat.v1.logging.set_verbosity(tf.compat.v1.logging.ERROR)\n",
        "\n",
        "import numpy as np"
      ],
      "execution_count": 0,
      "outputs": []
    },
    {
      "cell_type": "code",
      "metadata": {
        "id": "-JuxzdjKHh7g",
        "colab_type": "code",
        "colab": {}
      },
      "source": [
        "celcius = np.array([-40 ,-20, 0, 8, 15, 28, 48])\n",
        "fahrenheit = np.array([-40 ,-4, 32, 46.4, 59, 82.4, 118.4])"
      ],
      "execution_count": 0,
      "outputs": []
    },
    {
      "cell_type": "code",
      "metadata": {
        "id": "IcA15LUOIrPO",
        "colab_type": "code",
        "colab": {}
      },
      "source": [
        "model = tf.keras.Sequential(\n",
        "    tf.keras.layers.Dense(units=1, input_shape=[1])\n",
        ")"
      ],
      "execution_count": 0,
      "outputs": []
    },
    {
      "cell_type": "code",
      "metadata": {
        "id": "2anCpFnPJfxV",
        "colab_type": "code",
        "colab": {}
      },
      "source": [
        "model.compile(optimizer=tf.keras.optimizers.Adam(0.1), loss=\"mean_squared_error\")"
      ],
      "execution_count": 0,
      "outputs": []
    },
    {
      "cell_type": "code",
      "metadata": {
        "id": "n7OskvvYJ2jk",
        "colab_type": "code",
        "colab": {
          "base_uri": "https://localhost:8080/",
          "height": 34
        },
        "outputId": "f633e4a0-c03e-4f26-9c86-750d5dfe6d70"
      },
      "source": [
        "history = model.fit(celcius, fahrenheit, epochs=500, verbose=0)\n",
        "print(\"Model Training finished\")"
      ],
      "execution_count": 14,
      "outputs": [
        {
          "output_type": "stream",
          "text": [
            "Model Training finished\n"
          ],
          "name": "stdout"
        }
      ]
    },
    {
      "cell_type": "code",
      "metadata": {
        "id": "ErnM4lK3KOxu",
        "colab_type": "code",
        "colab": {
          "base_uri": "https://localhost:8080/",
          "height": 314
        },
        "outputId": "25232d37-677a-456e-b56a-3c2288da9e81"
      },
      "source": [
        "from matplotlib import pyplot as plt\n",
        "plt.xlabel(\"Epoch Number\")\n",
        "plt.ylabel(\"Loss\")\n",
        "plt.plot(history.history[\"loss\"])\n",
        "print(\"Training Statistics\\n\")"
      ],
      "execution_count": 18,
      "outputs": [
        {
          "output_type": "stream",
          "text": [
            "Training Statistics\n",
            "\n"
          ],
          "name": "stdout"
        },
        {
          "output_type": "display_data",
          "data": {
            "image/png": "[encoded data removed]",
            "text/plain": [
              "<Figure size 432x288 with 1 Axes>"
            ]
          },
          "metadata": {
            "tags": [],
            "needs_background": "light"
          }
        }
      ]
    },
    {
      "cell_type": "code",
      "metadata": {
        "id": "v3HMpZ9gLJSt",
        "colab_type": "code",
        "colab": {
          "base_uri": "https://localhost:8080/",
          "height": 34
        },
        "outputId": "e54cf32e-8371-47cf-f5af-6de82bd9146d"
      },
      "source": [
        "print(model.predict([100]))"
      ],
      "execution_count": 21,
      "outputs": [
        {
          "output_type": "stream",
          "text": [
            "[[211.99998]]\n"
          ],
          "name": "stdout"
        }
      ]
    },
    {
      "cell_type": "code",
      "metadata": {
        "id": "Cbrx4A4GLovZ",
        "colab_type": "code",
        "colab": {
          "base_uri": "https://localhost:8080/",
          "height": 70
        },
        "outputId": "3c93349b-7c45-48b9-c346-3cfe6f98ac06"
      },
      "source": [
        "print(\"These are the layer variables\\n\")\n",
        "print(model.get_weights())"
      ],
      "execution_count": 23,
      "outputs": [
        {
          "output_type": "stream",
          "text": [
            "These are the layer variables\n",
            "\n",
            "[array([[1.8000003]], dtype=float32), array([31.999952], dtype=float32)]\n"
          ],
          "name": "stdout"
        }
      ]
    },
    {
      "cell_type": "code",
      "metadata": {
        "id": "cLkobyXkMBS5",
        "colab_type": "code",
        "colab": {}
      },
      "source": [
        "l1 = tf.keras.layers.Dense(units=4, input_shape = [1])\n",
        "l2 = tf.keras.layers.Dense(units=4)\n",
        "l3 = tf.keras.layers.Dense(units=1)\n",
        "\n",
        "model = tf.keras.Sequential(\n",
        "    [l1, l2, l3]\n",
        ")\n",
        "\n",
        "model.compile(optimizer=tf.keras.optimizers.Adam(0.1), loss=\"mean_squared_error\")\n",
        "history = model.fit(x=celcius, y=fahrenheit, epochs=500, verbose=0)"
      ],
      "execution_count": 0,
      "outputs": []
    },
    {
      "cell_type": "code",
      "metadata": {
        "id": "zQKTKXf5Nsm_",
        "colab_type": "code",
        "colab": {
          "base_uri": "https://localhost:8080/",
          "height": 314
        },
        "outputId": "2f5efdb2-8bc8-4ee7-eed4-38ddf6bd5fe4"
      },
      "source": [
        "from matplotlib import pyplot as plt\n",
        "plt.xlabel(\"Epoch Number\")\n",
        "plt.ylabel(\"Loss\")\n",
        "plt.plot(history.history[\"loss\"])\n",
        "print(\"Training Statistics\\n\")"
      ],
      "execution_count": 29,
      "outputs": [
        {
          "output_type": "stream",
          "text": [
            "Training Statistics\n",
            "\n"
          ],
          "name": "stdout"
        },
        {
          "output_type": "display_data",
          "data": {
            "image/png": "[encoded data removed]",
            "text/plain": [
              "<Figure size 432x288 with 1 Axes>"
            ]
          },
          "metadata": {
            "tags": [],
            "needs_background": "light"
          }
        }
      ]
    },
    {
      "cell_type": "code",
      "metadata": {
        "id": "id2xuUDBN20U",
        "colab_type": "code",
        "colab": {
          "base_uri": "https://localhost:8080/",
          "height": 34
        },
        "outputId": "4f40739c-9cb7-44c9-ada2-6d595a3696b2"
      },
      "source": [
        "print(model.predict([100]))"
      ],
      "execution_count": 31,
      "outputs": [
        {
          "output_type": "stream",
          "text": [
            "[[212.]]\n"
          ],
          "name": "stdout"
        }
      ]
    },
    {
      "cell_type": "code",
      "metadata": {
        "id": "jsz-hfOSOEb5",
        "colab_type": "code",
        "colab": {
          "base_uri": "https://localhost:8080/",
          "height": 175
        },
        "outputId": "b5f944db-beed-4ac1-c773-854955e8274d"
      },
      "source": [
        "print(model.get_weights())"
      ],
      "execution_count": 32,
      "outputs": [
        {
          "output_type": "stream",
          "text": [
            "[array([[ 0.85961175, -0.08627019, -0.00979632,  0.68617743]],\n",
            "      dtype=float32), array([ 4.5288663, -4.39461  ,  0.9782268,  0.9312468], dtype=float32), array([[-1.0429293 , -1.112304  ,  0.829002  ,  1.4730891 ],\n",
            "       [ 1.4453305 ,  0.97071564, -0.34663528, -0.5327077 ],\n",
            "       [-0.20952149, -0.22238645,  0.87562007,  0.28604347],\n",
            "       [ 0.23548637, -0.1559274 , -0.03788123, -0.6136935 ]],\n",
            "      dtype=float32), array([-4.9175496, -3.0333893,  1.8199819,  1.6544902], dtype=float32), array([[-1.1849418 ],\n",
            "       [-0.43545964],\n",
            "       [ 0.16701028],\n",
            "       [ 0.1881328 ]], dtype=float32), array([4.262184], dtype=float32)]\n"
          ],
          "name": "stdout"
        }
      ]
    }
  ]
}